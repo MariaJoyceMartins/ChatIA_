{
  "nbformat": 4,
  "nbformat_minor": 0,
  "metadata": {
    "colab": {
      "provenance": [],
      "authorship_tag": "ABX9TyNmlxM4w/Xpsz9Sq5dQimg9",
      "include_colab_link": true
    },
    "kernelspec": {
      "name": "python3",
      "display_name": "Python 3"
    },
    "language_info": {
      "name": "python"
    }
  },
  "cells": [
    {
      "cell_type": "markdown",
      "metadata": {
        "id": "view-in-github",
        "colab_type": "text"
      },
      "source": [
        "<a href=\"https://colab.research.google.com/github/MariaJoyceMartins/ChatIA_DataAnalytics/blob/main/ChatIA_DataAnalytics.ipynb\" target=\"_parent\"><img src=\"https://colab.research.google.com/assets/colab-badge.svg\" alt=\"Open In Colab\"/></a>"
      ]
    },
    {
      "cell_type": "code",
      "source": [
        "!pip install -q -U google-generativeai"
      ],
      "metadata": {
        "id": "QIypnCk0d5r4"
      },
      "execution_count": null,
      "outputs": []
    },
    {
      "cell_type": "code",
      "source": [
        "import google.generativeai as genai\n",
        "from google.colab import userdata\n",
        "userdata.get('secretName')\n",
        "api_key = userdata.get('secretName')\n",
        "genai.configure(api_key=api_key)"
      ],
      "metadata": {
        "id": "Mfg41UcFeIqR"
      },
      "execution_count": 1,
      "outputs": []
    },
    {
      "cell_type": "code",
      "source": [
        "generation_config = {\n",
        "    \"candidate_count\": 1,\n",
        "    \"temperature\": 0.7,\n",
        "}"
      ],
      "metadata": {
        "id": "z7bXkciHe6-1"
      },
      "execution_count": null,
      "outputs": []
    },
    {
      "cell_type": "code",
      "source": [
        "safety_settings = {\n",
        "  \"HARASSMENT\": \"BLOCK_NONE\",\n",
        "  \"HATE\": \"BLOCK_NONE\",\n",
        "  \"SEXUAL\": \"BLOCK_NONE\",\n",
        "  \"DANGEROUS\": \"BLOCK_NONE\",\n",
        "}\n"
      ],
      "metadata": {
        "id": "6WcSApuEfL6C"
      },
      "execution_count": null,
      "outputs": []
    },
    {
      "cell_type": "code",
      "source": [
        "\n",
        "model = genai.GenerativeModel(model_name=\"gemini-1.0-pro\",\n",
        "                              generation_config=generation_config,\n",
        "                              safety_settings=safety_settings,\n",
        "                              )"
      ],
      "metadata": {
        "id": "qGBX5yi8fhFo"
      },
      "execution_count": null,
      "outputs": []
    },
    {
      "cell_type": "code",
      "source": [
        "response = model.generate_content(\"Me de 10 ideias de conteúdo virais para postar no tik tok\")\n",
        "print(response.text)"
      ],
      "metadata": {
        "colab": {
          "base_uri": "https://localhost:8080/",
          "height": 191
        },
        "id": "wNPG1vxvhTst",
        "outputId": "2e28164b-a7e8-4c4e-c954-065beccc2ed9"
      },
      "execution_count": null,
      "outputs": [
        {
          "output_type": "stream",
          "name": "stdout",
          "text": [
            "1. **Desafios de dança:** Crie uma rotina de dança cativante e desafie os usuários a imitá-la usando uma hashtag específica.\n",
            "2. **Duetos criativos:** Colabore com outros criadores para criar duetos exclusivos que combinem seus talentos e estilos.\n",
            "3. **Vídeos engraçados de animais:** Compartilhe vídeos hilários de animais fazendo coisas engraçadas ou fofas.\n",
            "4. **Transformações de maquiagem:** Mostre suas habilidades de maquiagem criando transformações impressionantes usando produtos e técnicas diferentes.\n",
            "5. **Tutoriais rápidos e fáceis:** Ensine aos usuários dicas e truques valiosos em áreas como culinária, artesanato ou cuidados pessoais em vídeos concisos.\n",
            "6. **Tendências virais:** Participe das últimas tendências do TikTok, como desafios de hashtag ou músicas populares.\n",
            "7. **Vídeos de asmr:** Crie vídeos relaxantes e calmantes que utilizam sons e sensações agradáveis para estimular os sentidos dos espectadores.\n",
            "8. **Vídeos de fatos divertidos:** Compartilhe fatos pouco conhecidos ou interessantes que despertem a curiosidade e o conhecimento dos usuários.\n",
            "9. **Vídeos de culinária criativa:** Mostre suas habilidades culinárias criando receitas inovadoras e apresentando-as de forma visualmente atraente.\n",
            "10. **Vídeos de viagens inspiradoras:** Mostre aos espectadores destinos deslumbrantes, experiências culturais imersivas e aventuras emocionantes.\n"
          ]
        }
      ]
    },
    {
      "cell_type": "code",
      "source": [
        "chat = model.start_chat(history=[])"
      ],
      "metadata": {
        "id": "OrwDMwQvhugq"
      },
      "execution_count": null,
      "outputs": []
    },
    {
      "cell_type": "code",
      "source": [
        "prompt = input('Digite um comando: ')\n",
        "\n",
        "while prompt != 'fim':\n",
        "  response = chat.send_message(prompt)\n",
        "  print(response.text)\n",
        "  prompt = input('Digite um comando: ')"
      ],
      "metadata": {
        "colab": {
          "base_uri": "https://localhost:8080/",
          "height": 1000
        },
        "id": "iw2zypQSiYbr",
        "outputId": "44b5ee2d-020f-4573-a66f-aeb6fbb014bf"
      },
      "execution_count": null,
      "outputs": [
        {
          "name": "stdout",
          "output_type": "stream",
          "text": [
            "Digite um comando: Me ensine os fundamentos de análise de dados para as redes sociais\n",
            "**Fundamentos da Análise de Dados para Redes Sociais**\n",
            "\n",
            "**1. Coleta de Dados**\n",
            "\n",
            "* Identifique as fontes de dados relevantes: plataformas de mídia social, ferramentas de monitoramento de dados, pesquisas.\n",
            "* Use métodos de coleta apropriados: APIs, web scraping, pesquisas online.\n",
            "* Limpe e prepare os dados para análise.\n",
            "\n",
            "**2. Análise Exploratória de Dados (EDA)**\n",
            "\n",
            "* Visualize os dados usando gráficos e tabelas para identificar padrões e tendências.\n",
            "* Calcule estatísticas básicas: médias, medianas, desvios padrão.\n",
            "* Realize testes estatísticos para identificar diferenças significativas.\n",
            "\n",
            "**3. Análise de Sentimento**\n",
            "\n",
            "* Classifique o sentimento das postagens e comentários: positivo, negativo ou neutro.\n",
            "* Use ferramentas de análise de sentimento automatizadas ou analise manualmente o conteúdo.\n",
            "* Analise o sentimento em relação a tópicos, produtos ou marcas específicas.\n",
            "\n",
            "**4. Análise de Influenciadores**\n",
            "\n",
            "* Identifique influenciadores-chave em seu nicho.\n",
            "* Analise o alcance, engajamento e reputação dos influenciadores.\n",
            "* Colabore com influenciadores para promover produtos ou serviços.\n",
            "\n",
            "**5. Análise de Rede**\n",
            "\n",
            "* Mapeie as conexões e relacionamentos entre usuários nas redes sociais.\n",
            "* Identifique comunidades e grupos de interesse.\n",
            "* Analise o fluxo de informações e a influência dentro das redes.\n",
            "\n",
            "**6. Análise de Conteúdo**\n",
            "\n",
            "* Extraia tópicos, temas e palavras-chave a partir do conteúdo das redes sociais.\n",
            "* Identifique tendências e padrões no conteúdo.\n",
            "* Analise o desempenho do conteúdo em termos de engajamento e compartilhamento.\n",
            "\n",
            "**7. Análise de Comportamento do Usuário**\n",
            "\n",
            "* Rastreie o comportamento dos usuários nas redes sociais: curtidas, compartilhamentos, cliques.\n",
            "* Segmente os usuários com base em dados demográficos, interesses e comportamento.\n",
            "* Personalize experiências e campanhas de marketing.\n",
            "\n",
            "**8. Análise Preditiva**\n",
            "\n",
            "* Use modelos estatísticos para prever resultados futuros, como engajamento ou conversões.\n",
            "* Identifique oportunidades de crescimento e otimize estratégias de marketing.\n",
            "* Faça recomendações personalizadas com base em análises anteriores.\n",
            "\n",
            "**9. Ética e Privacidade**\n",
            "\n",
            "* Proteja a privacidade dos usuários seguindo regulamentações éticas e de privacidade.\n",
            "* Obtenha consentimento antes de coletar e usar dados pessoais.\n",
            "* Use os dados de forma responsável e transparente.\n",
            "Digite um comando: fim\n"
          ]
        }
      ]
    },
    {
      "cell_type": "code",
      "source": [
        "#Melhorando a visualização\n",
        "#Código disponível em https://ai.google/dev/tutorials/python/quickstart#import_packages\n",
        "import textwrap\n",
        "from IPython.display import display\n",
        "from IPython.display import Markdown\n",
        "\n",
        "def to_markdown(text):\n",
        "  text = text.replace('•', '  *')\n",
        "  return Markdown(textwrap.indent(text, '> ', predicate=lambda _: True))\n",
        "\n",
        "#Imprimindo o histórico:\n",
        "for message in chat.history:\n",
        "  display(to_markdown(f'**{message.role}**: {message.parts[0].text}'))\n",
        "  print('-'*100)\n"
      ],
      "metadata": {
        "colab": {
          "base_uri": "https://localhost:8080/",
          "height": 875
        },
        "id": "g5MRJx-tlwab",
        "outputId": "a9aed009-0646-4d57-b435-003e9b70f107"
      },
      "execution_count": null,
      "outputs": [
        {
          "output_type": "display_data",
          "data": {
            "text/plain": [
              "<IPython.core.display.Markdown object>"
            ],
            "text/markdown": "> **user**: Me ensine os fundamentos de análise de dados para as redes sociais"
          },
          "metadata": {}
        },
        {
          "output_type": "stream",
          "name": "stdout",
          "text": [
            "----------------------------------------------------------------------------------------------------\n"
          ]
        },
        {
          "output_type": "display_data",
          "data": {
            "text/plain": [
              "<IPython.core.display.Markdown object>"
            ],
            "text/markdown": "> **model**: **Fundamentos da Análise de Dados para Redes Sociais**\n> \n> **1. Coleta de Dados**\n> \n> * Identifique as fontes de dados relevantes: plataformas de mídia social, ferramentas de monitoramento de dados, pesquisas.\n> * Use métodos de coleta apropriados: APIs, web scraping, pesquisas online.\n> * Limpe e prepare os dados para análise.\n> \n> **2. Análise Exploratória de Dados (EDA)**\n> \n> * Visualize os dados usando gráficos e tabelas para identificar padrões e tendências.\n> * Calcule estatísticas básicas: médias, medianas, desvios padrão.\n> * Realize testes estatísticos para identificar diferenças significativas.\n> \n> **3. Análise de Sentimento**\n> \n> * Classifique o sentimento das postagens e comentários: positivo, negativo ou neutro.\n> * Use ferramentas de análise de sentimento automatizadas ou analise manualmente o conteúdo.\n> * Analise o sentimento em relação a tópicos, produtos ou marcas específicas.\n> \n> **4. Análise de Influenciadores**\n> \n> * Identifique influenciadores-chave em seu nicho.\n> * Analise o alcance, engajamento e reputação dos influenciadores.\n> * Colabore com influenciadores para promover produtos ou serviços.\n> \n> **5. Análise de Rede**\n> \n> * Mapeie as conexões e relacionamentos entre usuários nas redes sociais.\n> * Identifique comunidades e grupos de interesse.\n> * Analise o fluxo de informações e a influência dentro das redes.\n> \n> **6. Análise de Conteúdo**\n> \n> * Extraia tópicos, temas e palavras-chave a partir do conteúdo das redes sociais.\n> * Identifique tendências e padrões no conteúdo.\n> * Analise o desempenho do conteúdo em termos de engajamento e compartilhamento.\n> \n> **7. Análise de Comportamento do Usuário**\n> \n> * Rastreie o comportamento dos usuários nas redes sociais: curtidas, compartilhamentos, cliques.\n> * Segmente os usuários com base em dados demográficos, interesses e comportamento.\n> * Personalize experiências e campanhas de marketing.\n> \n> **8. Análise Preditiva**\n> \n> * Use modelos estatísticos para prever resultados futuros, como engajamento ou conversões.\n> * Identifique oportunidades de crescimento e otimize estratégias de marketing.\n> * Faça recomendações personalizadas com base em análises anteriores.\n> \n> **9. Ética e Privacidade**\n> \n> * Proteja a privacidade dos usuários seguindo regulamentações éticas e de privacidade.\n> * Obtenha consentimento antes de coletar e usar dados pessoais.\n> * Use os dados de forma responsável e transparente."
          },
          "metadata": {}
        },
        {
          "output_type": "stream",
          "name": "stdout",
          "text": [
            "----------------------------------------------------------------------------------------------------\n"
          ]
        }
      ]
    },
    {
      "cell_type": "code",
      "source": [],
      "metadata": {
        "id": "2hhlDqG2j60k"
      },
      "execution_count": null,
      "outputs": []
    }
  ]
}